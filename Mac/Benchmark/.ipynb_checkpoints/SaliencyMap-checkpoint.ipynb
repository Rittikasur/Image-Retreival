{
 "cells": [
  {
   "cell_type": "code",
   "execution_count": 19,
   "metadata": {},
   "outputs": [],
   "source": [
    "from PIL import Image\n",
    "import numpy as np\n",
    "import math\n",
    "import matplotlib.pyplot as plt"
   ]
  },
  {
   "cell_type": "code",
   "execution_count": 20,
   "metadata": {},
   "outputs": [],
   "source": [
    "data = r\"../data/all_data/10865-country style foods-smak mango nectar#1.png\""
   ]
  },
  {
   "cell_type": "code",
   "execution_count": 21,
   "metadata": {},
   "outputs": [],
   "source": [
    "def get_image(path,show=False):\n",
    "    im = Image.open(data)\n",
    "    if show == True:\n",
    "        im.show()\n",
    "    image = np.array(im)\n",
    "    return image"
   ]
  },
  {
   "cell_type": "code",
   "execution_count": 22,
   "metadata": {},
   "outputs": [],
   "source": [
    "def generate_occlusion(image,center, filter_size=3):\n",
    "    x,y=center\n",
    "    startX = x - math.floor(filter_size/2)\n",
    "    endX = x + math.floor(filter_size/2) \n",
    "    startY = y - math.floor(filter_size/2)\n",
    "    endY = y + math.floor(filter_size/2) \n",
    "    new_img = image.copy()\n",
    "    black_patch = np.zeros((filter_size,filter_size))\n",
    "    new_img[startX:endX,startY:endY,:] = 0\n",
    "    occluded_image = Image.fromarray(new_img)\n",
    "    return occluded_image"
   ]
  },
  {
   "cell_type": "code",
   "execution_count": 32,
   "metadata": {},
   "outputs": [],
   "source": [
    "def generated_occluded_images(image,filter_size=3,stride=1):\n",
    "    occluded_images = []\n",
    "    h,w,c = image.shape\n",
    "#     print(image.shape)\n",
    "    row_start = (math.floor(filter_size/2) + 1)%h\n",
    "    row_end = (h - math.floor(filter_size/2) - 1)%h\n",
    "    col_start = (math.floor(filter_size/2) + 1)%w\n",
    "    col_end = (w - math.floor(filter_size/2) - 1)%w\n",
    "#     print(row_start,row_end,col_start,col_end)\n",
    "    print((row_end-row_start) * (col_end-col_start)/stride)\n",
    "    for row_center in range(row_start,row_end,stride):\n",
    "        for col_center in range(col_start,col_end,stride):\n",
    "            print((row_center,col_center))\n",
    "            occluded_image = generate_occlusion(image,(row_center,col_center),filter_size)\n",
    "            occluded_images.append(occluded_image)\n",
    "    print(len(occluded_images))\n",
    "    return occluded_images"
   ]
  },
  {
   "cell_type": "code",
   "execution_count": 33,
   "metadata": {},
   "outputs": [
    {
     "name": "stdout",
     "output_type": "stream",
     "text": [
      "(480, 720, 3)\n",
      "51 429 51 669\n",
      "4672.08\n",
      "(51, 51)\n",
      "(51, 101)\n",
      "(51, 151)\n",
      "(51, 201)\n",
      "(51, 251)\n",
      "(51, 301)\n",
      "(51, 351)\n",
      "(51, 401)\n",
      "(51, 451)\n",
      "(51, 501)\n",
      "(51, 551)\n",
      "(51, 601)\n",
      "(51, 651)\n",
      "(101, 51)\n",
      "(101, 101)\n",
      "(101, 151)\n",
      "(101, 201)\n",
      "(101, 251)\n",
      "(101, 301)\n",
      "(101, 351)\n",
      "(101, 401)\n",
      "(101, 451)\n",
      "(101, 501)\n",
      "(101, 551)\n",
      "(101, 601)\n",
      "(101, 651)\n",
      "(151, 51)\n",
      "(151, 101)\n",
      "(151, 151)\n",
      "(151, 201)\n",
      "(151, 251)\n",
      "(151, 301)\n",
      "(151, 351)\n",
      "(151, 401)\n",
      "(151, 451)\n",
      "(151, 501)\n",
      "(151, 551)\n",
      "(151, 601)\n",
      "(151, 651)\n",
      "(201, 51)\n",
      "(201, 101)\n",
      "(201, 151)\n",
      "(201, 201)\n",
      "(201, 251)\n",
      "(201, 301)\n",
      "(201, 351)\n",
      "(201, 401)\n",
      "(201, 451)\n",
      "(201, 501)\n",
      "(201, 551)\n",
      "(201, 601)\n",
      "(201, 651)\n",
      "(251, 51)\n",
      "(251, 101)\n",
      "(251, 151)\n",
      "(251, 201)\n",
      "(251, 251)\n",
      "(251, 301)\n",
      "(251, 351)\n",
      "(251, 401)\n",
      "(251, 451)\n",
      "(251, 501)\n",
      "(251, 551)\n",
      "(251, 601)\n",
      "(251, 651)\n",
      "(301, 51)\n",
      "(301, 101)\n",
      "(301, 151)\n",
      "(301, 201)\n",
      "(301, 251)\n",
      "(301, 301)\n",
      "(301, 351)\n",
      "(301, 401)\n",
      "(301, 451)\n",
      "(301, 501)\n",
      "(301, 551)\n",
      "(301, 601)\n",
      "(301, 651)\n",
      "(351, 51)\n",
      "(351, 101)\n",
      "(351, 151)\n",
      "(351, 201)\n",
      "(351, 251)\n",
      "(351, 301)\n",
      "(351, 351)\n",
      "(351, 401)\n",
      "(351, 451)\n",
      "(351, 501)\n",
      "(351, 551)\n",
      "(351, 601)\n",
      "(351, 651)\n",
      "(401, 51)\n",
      "(401, 101)\n",
      "(401, 151)\n",
      "(401, 201)\n",
      "(401, 251)\n",
      "(401, 301)\n",
      "(401, 351)\n",
      "(401, 401)\n",
      "(401, 451)\n",
      "(401, 501)\n",
      "(401, 551)\n",
      "(401, 601)\n",
      "(401, 651)\n",
      "104\n"
     ]
    }
   ],
   "source": [
    "image = get_image(data)\n",
    "img = generated_occluded_images(image,100,50)"
   ]
  },
  {
   "cell_type": "code",
   "execution_count": 34,
   "metadata": {},
   "outputs": [],
   "source": [
    "img[0].save('pillow_imagedraw.gif',\n",
    "               save_all=True, append_images=img[1:], optimize=False, duration=40, loop=0)"
   ]
  },
  {
   "cell_type": "code",
   "execution_count": null,
   "metadata": {},
   "outputs": [],
   "source": []
  }
 ],
 "metadata": {
  "kernelspec": {
   "display_name": "Python 3 (ipykernel)",
   "language": "python",
   "name": "python3"
  },
  "language_info": {
   "codemirror_mode": {
    "name": "ipython",
    "version": 3
   },
   "file_extension": ".py",
   "mimetype": "text/x-python",
   "name": "python",
   "nbconvert_exporter": "python",
   "pygments_lexer": "ipython3",
   "version": "3.9.13"
  },
  "vscode": {
   "interpreter": {
    "hash": "16dc59004923a11658590db2f6e5ae7b6ea560e3edd728c1f39ab5d5e8234227"
   }
  }
 },
 "nbformat": 4,
 "nbformat_minor": 2
}
