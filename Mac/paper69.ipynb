{
 "cells": [
  {
   "cell_type": "code",
   "execution_count": 1,
   "metadata": {},
   "outputs": [],
   "source": [
    "import cv2\n",
    "import numpy as np\n",
    "import re\n",
    "import tensorflow as tf\n",
    "import matplotlib.pyplot as plt\n",
    "class MAC():\n",
    "    def __init__(self,L):\n",
    "        self.L = L\n",
    "        self.lastconvfeature = None\n",
    "        self.max_pool_2d = None\n",
    "\n",
    "    def calculate_centers(self,w,h):\n",
    "        wl = []\n",
    "        hl = []\n",
    "        s  = []\n",
    "        centers = dict()\n",
    "        for l in range(2,self.L+1):\n",
    "            wi = (2 * w)/(l+1)\n",
    "            hi = (2 * h)/(l+1)\n",
    "            s_val = max(wi,hi)\n",
    "            s.append(s_val)\n",
    "            wl.append(wi)\n",
    "            hl.append(hi)\n",
    "            it_centers = []\n",
    "            for i in range(1,l+1):\n",
    "                for j in range(1,l+1):\n",
    "                    bw =  (w-wi)/(l-1)\n",
    "                    bh =  (h-hi)/(l-1)\n",
    "                    cx =  (wi/2) + (i-1)*bw\n",
    "                    cy =  (hi/2) + (j-1)*bh\n",
    "                    it_centers.append([int(cx),int(cy)])\n",
    "            centers[int(s_val)] = it_centers\n",
    "        return centers\n",
    "\n",
    "    def patches(self,side,center,image):\n",
    "        h,w,c = image.shape\n",
    "        half_side = side / 2\n",
    "        left_corner_x = int(center[0] - half_side) \n",
    "        left_corner_y = int(center[1] - half_side)\n",
    "        if(left_corner_x < 0):\n",
    "            left_corner_x = 0\n",
    "        if(left_corner_y < 0):\n",
    "            left_corner_y = 0\n",
    "        stridex = int(left_corner_x+side)\n",
    "        stridey = int(left_corner_y+side)\n",
    "        if(stridex>h):\n",
    "            stridex = int(left_corner_x + side-(stridex-h))\n",
    "        if(stridey>w):\n",
    "            stridey = int(left_corner_y + side-(stridey-w))\n",
    "        #print(left_corner_x,stridex,left_corner_y,stridey)\n",
    "        image_patch = image[left_corner_x:stridex,left_corner_y:stridey,:]\n",
    "        return(image_patch)\n",
    "\n",
    "    def all_patches(self,centers,img):\n",
    "        all_patches = []\n",
    "        for sides,allcenters in centers.items():\n",
    "            for single_centers in allcenters:\n",
    "                all_patches.append(self.patches(sides,single_centers,img))\n",
    "        assert len(all_patches)+1 == sum([i**2 for i in range(1,self.L+1)])\n",
    "        return all_patches\n",
    "\n",
    "    def show_patches(self,all_patches):\n",
    "        for sap in all_patches:\n",
    "            plt.imshow(sap)\n",
    "            plt.show()\n",
    "\n",
    "    def featuremodel(self):\n",
    "        self.max_pool_2d = tf.keras.layers.MaxPooling2D(pool_size=(8, 8),strides=(1, 1), padding='valid')\n",
    "        model = tf.keras.applications.inception_v3.InceptionV3(\n",
    "            include_top=True,\n",
    "            weights='imagenet',\n",
    "            pooling=None,\n",
    "            classes=1000,\n",
    "            classifier_activation='softmax'\n",
    "        )\n",
    "        convname = re.compile(r'conv2d_*')\n",
    "        convlayerlist = []\n",
    "        for layers in model.layers:\n",
    "            mo1 = bool(re.match(convname,layers.name))\n",
    "            if(mo1):\n",
    "                convlayerlist.append(layers.name)\n",
    "        self.lastconvfeature = tf.keras.Model(\n",
    "            inputs = model.inputs,\n",
    "            outputs= model.get_layer(convlayerlist[-1]).output)\n",
    "        print(\"Feature Maps Generated\")\n",
    "\n",
    "    def extractfeature(self,ap):\n",
    "        resized_ap = np.resize(ap,(1,299,299,3))\n",
    "        lastconvoutput = self.lastconvfeature(resized_ap)\n",
    "        finalfeature = self.max_pool_2d(lastconvoutput)\n",
    "        finalfeature = np.squeeze(finalfeature)\n",
    "        return finalfeature"
   ]
  },
  {
   "cell_type": "code",
   "execution_count": 2,
   "metadata": {},
   "outputs": [],
   "source": [
    "mac = MAC(4)"
   ]
  },
  {
   "cell_type": "code",
   "execution_count": 3,
   "metadata": {},
   "outputs": [
    {
     "name": "stdout",
     "output_type": "stream",
     "text": [
      "Feature Maps Generated\n"
     ]
    }
   ],
   "source": [
    "mac.featuremodel()"
   ]
  },
  {
   "cell_type": "code",
   "execution_count": 4,
   "metadata": {},
   "outputs": [],
   "source": [
    "query = cv2.imread(\"D:/Rohit/ORG India/images/husky.jpg\") #D:\\Rohit\\ORG India\\images\\image_effect_HUc1.png\n",
    "queryImageFeature = mac.extractfeature(query)"
   ]
  },
  {
   "cell_type": "code",
   "execution_count": 5,
   "metadata": {},
   "outputs": [],
   "source": [
    "import os\n",
    "path = \"images\"\n",
    "referenceimages = os.listdir(path)\n",
    "minindex = 1000\n",
    "for i in referenceimages:\n",
    "    distlist = []\n",
    "    referenceimage = cv2.imread(os.path.join(\"D:/Rohit/ORG India/images\",i))\n",
    "    centers = mac.calculate_centers(referenceimage.shape[0],referenceimage.shape[1])\n",
    "    all_patches = mac.all_patches(centers,referenceimage)\n",
    "    extractedfeature = []\n",
    "    for ap in all_patches:\n",
    "        returnedfeature = mac.extractfeature(ap)\n",
    "        extractedfeature.append(returnedfeature)\n",
    "    distlist = []\n",
    "    for ef in extractedfeature:\n",
    "        dist = np.linalg.norm(ef - queryImageFeature)\n",
    "        distlist.append(dist)\n",
    "    if(min(distlist)<minindex):\n",
    "        minindex = min(distlist)\n",
    "        minindexpath = i"
   ]
  },
  {
   "cell_type": "code",
   "execution_count": 6,
   "metadata": {},
   "outputs": [
    {
     "data": {
      "text/plain": [
       "'craft.png'"
      ]
     },
     "execution_count": 6,
     "metadata": {},
     "output_type": "execute_result"
    }
   ],
   "source": [
    "minindexpath"
   ]
  },
  {
   "cell_type": "code",
   "execution_count": null,
   "metadata": {},
   "outputs": [],
   "source": []
  }
 ],
 "metadata": {
  "kernelspec": {
   "display_name": "Python 3.8.3 ('base')",
   "language": "python",
   "name": "python3"
  },
  "language_info": {
   "codemirror_mode": {
    "name": "ipython",
    "version": 3
   },
   "file_extension": ".py",
   "mimetype": "text/x-python",
   "name": "python",
   "nbconvert_exporter": "python",
   "pygments_lexer": "ipython3",
   "version": "3.8.3"
  },
  "orig_nbformat": 4,
  "vscode": {
   "interpreter": {
    "hash": "ed0a8cdb5c243f34b85d199b3d468848919dc27f997729fc0c34e5c5bf2f9ffb"
   }
  }
 },
 "nbformat": 4,
 "nbformat_minor": 2
}
