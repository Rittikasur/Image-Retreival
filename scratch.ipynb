{
 "cells": [
  {
   "cell_type": "code",
   "execution_count": 1,
   "metadata": {},
   "outputs": [],
   "source": [
    "l = [{'sku_id': 437191292622995484, 'sku_name': '1657513352284-thakshi foods products-tf#3.png'}, {'sku_id': 437191292622995520, 'sku_name': '1657514122917-chaminda products-chaminda#3.png'}, {'sku_id': 437191292622995502, 'sku_name': '1657513964760-chaminda products-chaminda#3.png'}]"
   ]
  },
  {
   "cell_type": "code",
   "execution_count": 5,
   "metadata": {},
   "outputs": [
    {
     "data": {
      "text/plain": [
       "['1657513352284-thakshi foods products-tf#3.png',\n",
       " '1657514122917-chaminda products-chaminda#3.png',\n",
       " '1657513964760-chaminda products-chaminda#3.png']"
      ]
     },
     "execution_count": 5,
     "metadata": {},
     "output_type": "execute_result"
    }
   ],
   "source": [
    "[i['sku_name'] for i in l]"
   ]
  },
  {
   "cell_type": "code",
   "execution_count": 11,
   "metadata": {},
   "outputs": [
    {
     "data": {
      "text/plain": [
       "True"
      ]
     },
     "execution_count": 11,
     "metadata": {},
     "output_type": "execute_result"
    }
   ],
   "source": [
    "\"1657513964760-chaminda products-chaminda#3.png\".__contains__(\"1657513964760-chaminda products-chamin\")"
   ]
  },
  {
   "cell_type": "code",
   "execution_count": null,
   "metadata": {},
   "outputs": [],
   "source": []
  }
 ],
 "metadata": {
  "kernelspec": {
   "display_name": "Python 3.9.13 ('base')",
   "language": "python",
   "name": "python3"
  },
  "language_info": {
   "codemirror_mode": {
    "name": "ipython",
    "version": 3
   },
   "file_extension": ".py",
   "mimetype": "text/x-python",
   "name": "python",
   "nbconvert_exporter": "python",
   "pygments_lexer": "ipython3",
   "version": "3.9.13"
  },
  "orig_nbformat": 4,
  "vscode": {
   "interpreter": {
    "hash": "16dc59004923a11658590db2f6e5ae7b6ea560e3edd728c1f39ab5d5e8234227"
   }
  }
 },
 "nbformat": 4,
 "nbformat_minor": 2
}
