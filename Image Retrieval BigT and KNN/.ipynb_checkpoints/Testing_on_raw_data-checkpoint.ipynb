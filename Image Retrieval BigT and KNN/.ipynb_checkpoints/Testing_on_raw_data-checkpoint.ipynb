{
 "cells": [
  {
   "cell_type": "code",
   "execution_count": null,
   "metadata": {
    "id": "TTr9M5ABlKCN"
   },
   "outputs": [],
   "source": [
    "import os\n",
    "import time\n",
    "import numpy as np\n",
    "import pandas as pd\n",
    "import matplotlib.pyplot as plt\n",
    "\n",
    "from sklearn.neighbors import NearestNeighbors\n",
    "from sklearn.manifold import TSNE\n",
    "\n",
    "import tensorflow as tf\n",
    "from tensorflow.keras.layers import *\n",
    "from tensorflow.keras.models import *\n",
    "from tensorflow.keras.applications import *\n",
    "import tensorflow_hub as hub\n",
    "\n",
    "import tensorflow_datasets as tfds\n",
    "tfds.disable_progress_bar()\n",
    "\n",
    "# Fix the random seeds\n",
    "SEEDS=666\n",
    "\n",
    "np.random.seed(SEEDS)\n",
    "tf.random.set_seed(SEEDS)"
   ]
  },
  {
   "cell_type": "code",
   "execution_count": null,
   "metadata": {
    "id": "tMieNVCFlS1D"
   },
   "outputs": [],
   "source": [
    "IMAGE_SIZE = 160\n",
    "BATCH_SIZE = 64\n",
    "AUTO = tf.data.AUTOTUNE"
   ]
  },
  {
   "cell_type": "code",
   "execution_count": null,
   "metadata": {
    "id": "iUPcPLHKlS2q"
   },
   "outputs": [],
   "source": [
    "# Image preprocessing utils\n",
    "def preprocess_test(image):\n",
    "    image = tf.image.resize(image, [IMAGE_SIZE, IMAGE_SIZE])\n",
    "    image = tf.cast(image, tf.float32) / 255.0\n",
    "    return image"
   ]
  },
  {
   "cell_type": "code",
   "execution_count": null,
   "metadata": {
    "id": "bHEiEs7vlS5p"
   },
   "outputs": [],
   "source": [
    "validation_ds = (\n",
    "    validation_ds.map(preprocess_test, num_parallel_calls=AUTO)\n",
    "    .batch(BATCH_SIZE)\n",
    "    .prefetch(buffer_size=AUTO)\n",
    ")"
   ]
  },
  {
   "cell_type": "code",
   "execution_count": null,
   "metadata": {
    "id": "Fey19NKzlsDe"
   },
   "outputs": [],
   "source": [
    "model_url = \"https://tfhub.dev/google/bit/m-r50x1/1\"\n",
    "module = hub.KerasLayer(model_url, trainable=False)"
   ]
  },
  {
   "cell_type": "code",
   "execution_count": null,
   "metadata": {
    "id": "QZDxn8LylvOj"
   },
   "outputs": [],
   "source": [
    "class MyBiTModel(tf.keras.Model):\n",
    "    def __init__(self, module):\n",
    "        super().__init__()\n",
    "        self.dense1 = tf.keras.layers.Dense(128)\n",
    "        self.normalize = Lambda(lambda a: tf.math.l2_normalize(a, axis=1))\n",
    "        self.bit_model = module\n",
    "  \n",
    "    def call(self, images):\n",
    "        bit_embedding = self.bit_model(images)\n",
    "        dense1_representations = self.dense1(bit_embedding)\n",
    "        return self.normalize(dense1_representations)"
   ]
  },
  {
   "cell_type": "code",
   "execution_count": null,
   "metadata": {
    "id": "yL49IQUolsFH"
   },
   "outputs": [],
   "source": [
    "model = MyBiTModel(module=module)"
   ]
  },
  {
   "cell_type": "code",
   "execution_count": null,
   "metadata": {
    "id": "Y6zR6Tw9lsI3"
   },
   "outputs": [],
   "source": [
    "model.build(input_shape=(None, IMAGE_SIZE, IMAGE_SIZE, 3))\n",
    "model.load_weights(\"model_bit.h5\")"
   ]
  },
  {
   "cell_type": "code",
   "execution_count": null,
   "metadata": {
    "id": "PZpBBNTrmDQm"
   },
   "outputs": [],
   "source": [
    "images, labels = next(iter(validation_ds.take(1)))\n",
    "print(images.shape, labels.shape)"
   ]
  },
  {
   "cell_type": "code",
   "execution_count": null,
   "metadata": {
    "id": "DDEh_QcmlsLF"
   },
   "outputs": [],
   "source": [
    "validation_features = model.predict(images)\n",
    "start = time.time()\n",
    "neighbors = NearestNeighbors(n_neighbors=5,\n",
    "    algorithm='brute',\n",
    "    metric='euclidean').fit(validation_features)\n",
    "print('Time taken: {:.5f} secs'.format(time.time() - start))"
   ]
  },
  {
   "cell_type": "code",
   "execution_count": null,
   "metadata": {
    "id": "mBQhJDk7lS7P"
   },
   "outputs": [],
   "source": []
  },
  {
   "cell_type": "code",
   "execution_count": null,
   "metadata": {
    "id": "Zu-kHu7NlS_J"
   },
   "outputs": [],
   "source": [
    "def plot_images(images, labels, distances):\n",
    "    plt.figure(figsize=(20, 10))\n",
    "    columns = 4\n",
    "    for (i, image) in enumerate(images):\n",
    "        ax = plt.subplot(len(images) / columns + 1, columns, i + 1)\n",
    "        if i == 0:\n",
    "            ax.set_title(\"Query Image\\n\" + \"Label: {}\".format(CLASSES[labels[i]]))\n",
    "        else:\n",
    "            ax.set_title(\"Similar Image # \" + str(i) +\n",
    "                         \"\\nDistance: \" +\n",
    "                         str(float(\"{0:.2f}\".format(distances[i]))) + \n",
    "                         \"\\nLabel: {}\".format(CLASSES[labels[i]]))\n",
    "        plt.imshow(image)"
   ]
  },
  {
   "cell_type": "code",
   "execution_count": null,
   "metadata": {
    "id": "6tcfnACOlTAm"
   },
   "outputs": [],
   "source": [
    "for i in range(6):\n",
    "    random_index = int(np.random.choice(images.shape[0], 1))\n",
    "    distances, indices = neighbors.kneighbors(\n",
    "        [validation_features[random_index]])\n",
    "    \n",
    "    # Don't take the first closest image as it will be the same image\n",
    "    similar_images = [images[random_index]] + \\\n",
    "        [images[indices[0][i]] for i in range(1, 4)]\n",
    "    similar_labels = [labels[random_index]] + \\\n",
    "        [labels[indices[0][i]] for i in range(1, 4)]\n",
    "    plot_images(similar_images, similar_labels, distances[0])"
   ]
  }
 ],
 "metadata": {
  "colab": {
   "provenance": []
  },
  "kernelspec": {
   "display_name": "Python 3 (ipykernel)",
   "language": "python",
   "name": "python3"
  },
  "language_info": {
   "name": "python"
  }
 },
 "nbformat": 4,
 "nbformat_minor": 1
}
